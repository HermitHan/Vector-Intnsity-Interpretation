{
 "cells": [
  {
   "cell_type": "code",
   "execution_count": 1,
   "id": "c06e83b5",
   "metadata": {},
   "outputs": [],
   "source": [
    "import numpy as np\n",
    "from sympy import *\n",
    "\n",
    "# Define Type VII data\n",
    "class VII():\n",
    "    \n",
    "    # Type VII data will have two attributes: direction and size\n",
    "    def __init__(self, direction=np.array([0,0,1]), mould=1):\n",
    "        self.direction = direction \n",
    "        self.mould = mould\n",
    "        self.dimension = len(self.direction)\n",
    "        A = self.direction\n",
    "        if (A[0]==x and A[1]==y and A[2]==z and self.mould==0):\n",
    "            self.type = 'nabla'\n",
    "        elif (A[0]==0 and A[1]==0 and A[2]==0):\n",
    "            self.type = 'intnsity'\n",
    "        else:\n",
    "            self.type = 'vector'\n",
    "            \n",
    "    x, y, z = symbols('x, y, z')\n",
    "    \n",
    "    # Define nabla function\n",
    "    @staticmethod\n",
    "    def nabla():\n",
    "        return VII(np.array([x, y, z]), 0)\n",
    "    \n",
    "    # Convert 3D vector to VII format data\n",
    "    @staticmethod\n",
    "    def load_vector(vec):\n",
    "        re1 = sum(i**2 for i in vec)**0.5\n",
    "        if re1**2 != 0:\n",
    "            re2 = np.array([j/re1 for j in vec])\n",
    "        else:\n",
    "            re2 = np.array([0 for j in vec])\n",
    "        return VII(re2, re1)\n",
    "    \n",
    "    # Convert scalar to VII format data\n",
    "    @staticmethod\n",
    "    def load_intnsity(sca):\n",
    "        re1 = np.array([0, 0, 0])\n",
    "        re2 = sca\n",
    "        return VII(re1, re2)\n",
    "    \n",
    "    # Convert VII format data into 3D vectors\n",
    "    def back_vector(self):\n",
    "        re1 = self.direction\n",
    "        re2 = self.mould\n",
    "        re = np.array([re2*i for i in re1])\n",
    "        return re\n",
    "    \n",
    "    # Define \"+\" operation\n",
    "    def __add__(self, A):\n",
    "        if self.type=='vector' and A.type=='vector':\n",
    "            re1 = VII.back_vector(self)\n",
    "            re2 = VII.back_vector(A)\n",
    "            re3 = re1 + re2\n",
    "            re = VII.load_vector(re3)\n",
    "        elif self.type=='intnsity' and A.type=='intnsity':\n",
    "            re1 = np.array([0, 0, 0])\n",
    "            re2 = self.mould + A.mould\n",
    "            re = VII(re1, re2)\n",
    "        else:\n",
    "            re = 'Error'\n",
    "        return re\n",
    "    \n",
    "    # Define \"-\" operation\n",
    "    def __sub__(self, A):\n",
    "        if self.type=='vector' and A.type=='vector':\n",
    "            re1 = VII.back_vector(self)\n",
    "            re2 = VII.back_vector(A)\n",
    "            re3 = re1 - re2\n",
    "            re = VII.load_vector(re3)\n",
    "        elif self.type=='intnsity' and A.type=='intnsity':\n",
    "            re1 = np.array([0, 0, 0])\n",
    "            re2 = self.mould - A.mould\n",
    "            re = VII(re1, re2)\n",
    "        else:\n",
    "            re = 'Error'\n",
    "        return re\n",
    "    \n",
    "    # Define \"*\" operation\n",
    "    def __mul__(self, A):\n",
    "        if self.type=='intnsity' and A.type=='intnsity':\n",
    "            re1 = np.array([0, 0, 0])\n",
    "            re2 = self.mould * A.mould\n",
    "            re = VII(re1, re2)\n",
    "        elif self.type=='vector' and A.type=='intnsity':\n",
    "            re1 = A.mould\n",
    "            re2 = VII.back_vector(self)\n",
    "            re3 = np.array([re1*i for i in re2])\n",
    "            re = VII.load_vector(re3)\n",
    "        elif self.type=='intnsity' and A.type=='vector':\n",
    "            re1 = self.mould\n",
    "            re2 = VII.back_vector(A)\n",
    "            re3 = np.array([re1*i for i in re2])\n",
    "            re = VII.load_vector(re3)\n",
    "        elif self.type=='nabla' and A.type=='intnsity':\n",
    "            re1 = A.mould\n",
    "            re2 = np.array([diff(re1, x), diff(re1, y), diff(re1, z)])\n",
    "            re = VII.load_vector(re2)\n",
    "        else:\n",
    "            re = 'Error'\n",
    "        return re\n",
    "    \n",
    "    # Define \"/\" operation\n",
    "    def __truediv__(self, A):\n",
    "        if self.type=='intnsity' and A.type=='intnsity':\n",
    "            re1 = np.array([0, 0, 0])\n",
    "            re2 = self.mould / A.mould\n",
    "            re = VII(re1, re2)\n",
    "        elif self.type=='vector' and A.type=='intnsity':\n",
    "            re1 = A.mould\n",
    "            re2 = VII.back_vector(self)\n",
    "            re3 = np.array([i/re1 for i in re2])\n",
    "            re = VII.load_vector(re3)\n",
    "        else:\n",
    "            re = 'Error'\n",
    "        return re\n",
    "    \n",
    "    # Define Dot product operation\n",
    "    def dot(self, A):\n",
    "        if self.type=='vector' and A.type=='vector':\n",
    "            re1 = np.dot(self.direction, A.direction)\n",
    "            re2 = self.mould * A.mould\n",
    "            re = re1 * re2\n",
    "        elif self.type=='nabla' and A.type=='vector':\n",
    "            re1 = VII.back_vector(A)\n",
    "            re2 = diff(re1[0], x) + diff(re1[1], y) + diff(re1[2], z)\n",
    "            re = VII.load_intnsity(re2)\n",
    "        return re\n",
    "    \n",
    "    # Define Cross product operation\n",
    "    def cross(self, A):\n",
    "        if self.type=='vector' and A.type=='vector':\n",
    "            re1 = np.cross(self.direction, A.direction)\n",
    "            re2 = self.mould * A.mould\n",
    "            re3 = VII(re1, re2)\n",
    "            re = VII.load_vector(VII.back_vector(re3))\n",
    "        elif self.type=='nabla' and A.type=='vector':\n",
    "            re1 = VII.back_vector(A)\n",
    "            re2 = np.array([diff(re1[2], y)-diff(re1[1], z), diff(re1[0], z)-diff(re1[2], x), diff(re1[1], x)-diff(re1[0], y)])\n",
    "            re = VII.load_vector(re2)\n",
    "        return re\n",
    "    \n",
    "    # show VII type\n",
    "    def __repr__(self):\n",
    "        return str((self.direction, self.mould))"
   ]
  },
  {
   "cell_type": "code",
   "execution_count": 2,
   "id": "11c54d6d",
   "metadata": {},
   "outputs": [],
   "source": [
    "x, y, z = symbols('x, y, z')\n",
    "\n",
    "L = x**2 + y**3 - z/2\n",
    "M = [x, y, z]\n",
    "N = [x**2, y**2, z**2]\n",
    "A = [3, 4, 0]\n",
    "B = [4, 3, 0]\n",
    "a = VII.load_vector(A)\n",
    "b = VII.load_vector(B)\n",
    "m = VII.load_vector(M)\n",
    "n = VII.load_vector(N)\n",
    "l = VII.load_intnsity(L)\n",
    "p = VII.load_intnsity(x)\n",
    "q = VII.load_intnsity(y)\n",
    "nab = VII.nabla()"
   ]
  },
  {
   "cell_type": "code",
   "execution_count": 3,
   "id": "957d719a",
   "metadata": {},
   "outputs": [
    {
     "data": {
      "text/plain": [
       "(array([0, 0, 0]), 3)"
      ]
     },
     "execution_count": 3,
     "metadata": {},
     "output_type": "execute_result"
    }
   ],
   "source": [
    "nab.dot(m)"
   ]
  },
  {
   "cell_type": "code",
   "execution_count": 4,
   "id": "1a1809d1",
   "metadata": {},
   "outputs": [
    {
     "data": {
      "text/plain": [
       "(array([0, 0, 0]), 2*x + 2*y + 2*z)"
      ]
     },
     "execution_count": 4,
     "metadata": {},
     "output_type": "execute_result"
    }
   ],
   "source": [
    "nab.dot(n)"
   ]
  },
  {
   "cell_type": "code",
   "execution_count": 5,
   "id": "36379881",
   "metadata": {},
   "outputs": [
    {
     "data": {
      "text/plain": [
       "(array([0, 0, 0]), 0)"
      ]
     },
     "execution_count": 5,
     "metadata": {},
     "output_type": "execute_result"
    }
   ],
   "source": [
    "nab.cross(m)"
   ]
  },
  {
   "cell_type": "code",
   "execution_count": 6,
   "id": "d699510b",
   "metadata": {},
   "outputs": [
    {
     "data": {
      "text/plain": [
       "array([0, -z, y], dtype=object)"
      ]
     },
     "execution_count": 6,
     "metadata": {},
     "output_type": "execute_result"
    }
   ],
   "source": [
    "nab.cross(p*m).back_vector()"
   ]
  },
  {
   "cell_type": "code",
   "execution_count": 7,
   "id": "42706f90",
   "metadata": {},
   "outputs": [
    {
     "data": {
      "text/plain": [
       "array([-z**2/y**2, 0, x**2/y**2], dtype=object)"
      ]
     },
     "execution_count": 7,
     "metadata": {},
     "output_type": "execute_result"
    }
   ],
   "source": [
    "nab.cross(n/q).back_vector()"
   ]
  },
  {
   "cell_type": "code",
   "execution_count": 8,
   "id": "fbbb42ea",
   "metadata": {},
   "outputs": [
    {
     "data": {
      "text/plain": [
       "array([2*x, 3*y**2, -1/2], dtype=object)"
      ]
     },
     "execution_count": 8,
     "metadata": {},
     "output_type": "execute_result"
    }
   ],
   "source": [
    "(nab * l).back_vector()"
   ]
  },
  {
   "cell_type": "code",
   "execution_count": 9,
   "id": "2deeed82",
   "metadata": {},
   "outputs": [
    {
     "data": {
      "text/plain": [
       "'nabla'"
      ]
     },
     "execution_count": 9,
     "metadata": {},
     "output_type": "execute_result"
    }
   ],
   "source": [
    "nana = VII(np.array([x, y, z]), 0)\n",
    "nana.type"
   ]
  },
  {
   "cell_type": "code",
   "execution_count": null,
   "id": "e70d6f1b",
   "metadata": {},
   "outputs": [],
   "source": []
  }
 ],
 "metadata": {
  "kernelspec": {
   "display_name": "Python 3",
   "language": "python",
   "name": "python3"
  },
  "language_info": {
   "codemirror_mode": {
    "name": "ipython",
    "version": 3
   },
   "file_extension": ".py",
   "mimetype": "text/x-python",
   "name": "python",
   "nbconvert_exporter": "python",
   "pygments_lexer": "ipython3",
   "version": "3.8.10"
  }
 },
 "nbformat": 4,
 "nbformat_minor": 5
}
